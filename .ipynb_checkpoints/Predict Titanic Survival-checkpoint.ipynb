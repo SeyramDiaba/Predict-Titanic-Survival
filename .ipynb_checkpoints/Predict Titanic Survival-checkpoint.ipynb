{
 "cells": [
  {
   "cell_type": "code",
   "execution_count": 1,
   "id": "3b8cec81",
   "metadata": {},
   "outputs": [],
   "source": [
    "import pandas as pd\n",
    "import numpy as np\n",
    "import matplotlib.pyplot as plt\n",
    "from sklearn.linear_model import LogisticRegression\n",
    "from sklearn.model_selection import train_test_split\n",
    "from sklearn.preprocessing import StandardScaler\n",
    "pd.set_option('display.max_columns', None)"
   ]
  },
  {
   "cell_type": "markdown",
   "id": "98fd7635",
   "metadata": {},
   "source": [
    "# Load the Data"
   ]
  },
  {
   "cell_type": "code",
   "execution_count": 5,
   "id": "988b047f",
   "metadata": {},
   "outputs": [
    {
     "data": {
      "text/html": [
       "<div>\n",
       "<style scoped>\n",
       "    .dataframe tbody tr th:only-of-type {\n",
       "        vertical-align: middle;\n",
       "    }\n",
       "\n",
       "    .dataframe tbody tr th {\n",
       "        vertical-align: top;\n",
       "    }\n",
       "\n",
       "    .dataframe thead th {\n",
       "        text-align: right;\n",
       "    }\n",
       "</style>\n",
       "<table border=\"1\" class=\"dataframe\">\n",
       "  <thead>\n",
       "    <tr style=\"text-align: right;\">\n",
       "      <th></th>\n",
       "      <th>PassengerId</th>\n",
       "      <th>Survived</th>\n",
       "      <th>Pclass</th>\n",
       "      <th>Name</th>\n",
       "      <th>Sex</th>\n",
       "      <th>Age</th>\n",
       "      <th>SibSp</th>\n",
       "      <th>Parch</th>\n",
       "      <th>Ticket</th>\n",
       "      <th>Fare</th>\n",
       "      <th>Cabin</th>\n",
       "      <th>Embarked</th>\n",
       "    </tr>\n",
       "  </thead>\n",
       "  <tbody>\n",
       "    <tr>\n",
       "      <th>0</th>\n",
       "      <td>1</td>\n",
       "      <td>0</td>\n",
       "      <td>3</td>\n",
       "      <td>Braund, Mr. Owen Harris</td>\n",
       "      <td>male</td>\n",
       "      <td>22.0</td>\n",
       "      <td>1</td>\n",
       "      <td>0</td>\n",
       "      <td>A/5 21171</td>\n",
       "      <td>7.2500</td>\n",
       "      <td>NaN</td>\n",
       "      <td>S</td>\n",
       "    </tr>\n",
       "    <tr>\n",
       "      <th>1</th>\n",
       "      <td>2</td>\n",
       "      <td>1</td>\n",
       "      <td>1</td>\n",
       "      <td>Cumings, Mrs. John Bradley (Florence Briggs Th...</td>\n",
       "      <td>female</td>\n",
       "      <td>38.0</td>\n",
       "      <td>1</td>\n",
       "      <td>0</td>\n",
       "      <td>PC 17599</td>\n",
       "      <td>71.2833</td>\n",
       "      <td>C85</td>\n",
       "      <td>C</td>\n",
       "    </tr>\n",
       "    <tr>\n",
       "      <th>2</th>\n",
       "      <td>3</td>\n",
       "      <td>1</td>\n",
       "      <td>3</td>\n",
       "      <td>Heikkinen, Miss. Laina</td>\n",
       "      <td>female</td>\n",
       "      <td>26.0</td>\n",
       "      <td>0</td>\n",
       "      <td>0</td>\n",
       "      <td>STON/O2. 3101282</td>\n",
       "      <td>7.9250</td>\n",
       "      <td>NaN</td>\n",
       "      <td>S</td>\n",
       "    </tr>\n",
       "    <tr>\n",
       "      <th>3</th>\n",
       "      <td>4</td>\n",
       "      <td>1</td>\n",
       "      <td>1</td>\n",
       "      <td>Futrelle, Mrs. Jacques Heath (Lily May Peel)</td>\n",
       "      <td>female</td>\n",
       "      <td>35.0</td>\n",
       "      <td>1</td>\n",
       "      <td>0</td>\n",
       "      <td>113803</td>\n",
       "      <td>53.1000</td>\n",
       "      <td>C123</td>\n",
       "      <td>S</td>\n",
       "    </tr>\n",
       "    <tr>\n",
       "      <th>4</th>\n",
       "      <td>5</td>\n",
       "      <td>0</td>\n",
       "      <td>3</td>\n",
       "      <td>Allen, Mr. William Henry</td>\n",
       "      <td>male</td>\n",
       "      <td>35.0</td>\n",
       "      <td>0</td>\n",
       "      <td>0</td>\n",
       "      <td>373450</td>\n",
       "      <td>8.0500</td>\n",
       "      <td>NaN</td>\n",
       "      <td>S</td>\n",
       "    </tr>\n",
       "  </tbody>\n",
       "</table>\n",
       "</div>"
      ],
      "text/plain": [
       "   PassengerId  Survived  Pclass  \\\n",
       "0            1         0       3   \n",
       "1            2         1       1   \n",
       "2            3         1       3   \n",
       "3            4         1       1   \n",
       "4            5         0       3   \n",
       "\n",
       "                                                Name     Sex   Age  SibSp  \\\n",
       "0                            Braund, Mr. Owen Harris    male  22.0      1   \n",
       "1  Cumings, Mrs. John Bradley (Florence Briggs Th...  female  38.0      1   \n",
       "2                             Heikkinen, Miss. Laina  female  26.0      0   \n",
       "3       Futrelle, Mrs. Jacques Heath (Lily May Peel)  female  35.0      1   \n",
       "4                           Allen, Mr. William Henry    male  35.0      0   \n",
       "\n",
       "   Parch            Ticket     Fare Cabin Embarked  \n",
       "0      0         A/5 21171   7.2500   NaN        S  \n",
       "1      0          PC 17599  71.2833   C85        C  \n",
       "2      0  STON/O2. 3101282   7.9250   NaN        S  \n",
       "3      0            113803  53.1000  C123        S  \n",
       "4      0            373450   8.0500   NaN        S  "
      ]
     },
     "execution_count": 5,
     "metadata": {},
     "output_type": "execute_result"
    }
   ],
   "source": [
    "passengers= pd.read_csv('passengers.csv')\n",
    "passengers.head()"
   ]
  },
  {
   "cell_type": "markdown",
   "id": "e99a5844",
   "metadata": {},
   "source": [
    "# Update sex column to numerical"
   ]
  },
  {
   "cell_type": "code",
   "execution_count": 7,
   "id": "3228d931",
   "metadata": {},
   "outputs": [
    {
     "name": "stdout",
     "output_type": "stream",
     "text": [
      "   PassengerId  Survived  Pclass  \\\n",
      "0            1         0       3   \n",
      "1            2         1       1   \n",
      "2            3         1       3   \n",
      "3            4         1       1   \n",
      "4            5         0       3   \n",
      "\n",
      "                                                Name  Sex   Age  SibSp  Parch  \\\n",
      "0                            Braund, Mr. Owen Harris    0  22.0      1      0   \n",
      "1  Cumings, Mrs. John Bradley (Florence Briggs Th...    0  38.0      1      0   \n",
      "2                             Heikkinen, Miss. Laina    0  26.0      0      0   \n",
      "3       Futrelle, Mrs. Jacques Heath (Lily May Peel)    0  35.0      1      0   \n",
      "4                           Allen, Mr. William Henry    0  35.0      0      0   \n",
      "\n",
      "             Ticket     Fare Cabin Embarked  \n",
      "0         A/5 21171   7.2500   NaN        S  \n",
      "1          PC 17599  71.2833   C85        C  \n",
      "2  STON/O2. 3101282   7.9250   NaN        S  \n",
      "3            113803  53.1000  C123        S  \n",
      "4            373450   8.0500   NaN        S  \n",
      "[22.         38.         26.         35.         35.         29.69911765\n",
      " 54.          2.         27.         14.          4.         58.\n",
      " 20.         39.         14.         55.          2.         29.69911765\n",
      " 31.         29.69911765 35.         34.         15.         28.\n",
      "  8.         38.         29.69911765 19.         29.69911765 29.69911765\n",
      " 40.         29.69911765 29.69911765 66.         28.         42.\n",
      " 29.69911765 21.         18.         14.         40.         27.\n",
      " 29.69911765  3.         19.         29.69911765 29.69911765 29.69911765\n",
      " 29.69911765 18.          7.         21.         49.         29.\n",
      " 65.         29.69911765 21.         28.5         5.         11.\n",
      " 22.         38.         45.          4.         29.69911765 29.69911765\n",
      " 29.         19.         17.         26.         32.         16.\n",
      " 21.         26.         32.         25.         29.69911765 29.69911765\n",
      "  0.83       30.         22.         29.         29.69911765 28.\n",
      " 17.         33.         16.         29.69911765 23.         24.\n",
      " 29.         20.         46.         26.         59.         29.69911765\n",
      " 71.         23.         34.         34.         28.         29.69911765\n",
      " 21.         33.         37.         28.         21.         29.69911765\n",
      " 38.         29.69911765 47.         14.5        22.         20.\n",
      " 17.         21.         70.5        29.         24.          2.\n",
      " 21.         29.69911765 32.5        32.5        54.         12.\n",
      " 29.69911765 24.         29.69911765 45.         33.         20.\n",
      " 47.         29.         25.         23.         19.         37.\n",
      " 16.         24.         29.69911765 22.         24.         19.\n",
      " 18.         19.         27.          9.         36.5        42.\n",
      " 51.         22.         55.5        40.5        29.69911765 51.\n",
      " 16.         30.         29.69911765 29.69911765 44.         40.\n",
      " 26.         17.          1.          9.         29.69911765 45.\n",
      " 29.69911765 28.         61.          4.          1.         21.\n",
      " 56.         18.         29.69911765 50.         30.         36.\n",
      " 29.69911765 29.69911765  9.          1.          4.         29.69911765\n",
      " 29.69911765 45.         40.         36.         32.         19.\n",
      " 19.          3.         44.         58.         29.69911765 42.\n",
      " 29.69911765 24.         28.         29.69911765 34.         45.5\n",
      " 18.          2.         32.         26.         16.         40.\n",
      " 24.         35.         22.         30.         29.69911765 31.\n",
      " 27.         42.         32.         30.         16.         27.\n",
      " 51.         29.69911765 38.         22.         19.         20.5\n",
      " 18.         29.69911765 35.         29.         59.          5.\n",
      " 24.         29.69911765 44.          8.         19.         33.\n",
      " 29.69911765 29.69911765 29.         22.         30.         44.\n",
      " 25.         24.         37.         54.         29.69911765 29.\n",
      " 62.         30.         41.         29.         29.69911765 30.\n",
      " 35.         50.         29.69911765  3.         52.         40.\n",
      " 29.69911765 36.         16.         25.         58.         35.\n",
      " 29.69911765 25.         41.         37.         29.69911765 63.\n",
      " 45.         29.69911765  7.         35.         65.         28.\n",
      " 16.         19.         29.69911765 33.         30.         22.\n",
      " 42.         22.         26.         19.         36.         24.\n",
      " 24.         29.69911765 23.5         2.         29.69911765 50.\n",
      " 29.69911765 29.69911765 19.         29.69911765 29.69911765  0.92\n",
      " 29.69911765 17.         30.         30.         24.         18.\n",
      " 26.         28.         43.         26.         24.         54.\n",
      " 31.         40.         22.         27.         30.         22.\n",
      " 29.69911765 36.         61.         36.         31.         16.\n",
      " 29.69911765 45.5        38.         16.         29.69911765 29.69911765\n",
      " 29.         41.         45.         45.          2.         24.\n",
      " 28.         25.         36.         24.         40.         29.69911765\n",
      "  3.         42.         23.         29.69911765 15.         25.\n",
      " 29.69911765 28.         22.         38.         29.69911765 29.69911765\n",
      " 40.         29.         45.         35.         29.69911765 30.\n",
      " 60.         29.69911765 29.69911765 24.         25.         18.\n",
      " 19.         22.          3.         29.69911765 22.         27.\n",
      " 20.         19.         42.          1.         32.         35.\n",
      " 29.69911765 18.          1.         36.         29.69911765 17.\n",
      " 36.         21.         28.         23.         24.         22.\n",
      " 31.         46.         23.         28.         39.         26.\n",
      " 21.         28.         20.         34.         51.          3.\n",
      " 21.         29.69911765 29.69911765 29.69911765 33.         29.69911765\n",
      " 44.         29.69911765 34.         18.         30.         10.\n",
      " 29.69911765 21.         29.         28.         18.         29.69911765\n",
      " 28.         19.         29.69911765 32.         28.         29.69911765\n",
      " 42.         17.         50.         14.         21.         24.\n",
      " 64.         31.         45.         20.         25.         28.\n",
      " 29.69911765  4.         13.         34.          5.         52.\n",
      " 36.         29.69911765 30.         49.         29.69911765 29.\n",
      " 65.         29.69911765 50.         29.69911765 48.         34.\n",
      " 47.         48.         29.69911765 38.         29.69911765 56.\n",
      " 29.69911765  0.75       29.69911765 38.         33.         23.\n",
      " 22.         29.69911765 34.         29.         22.          2.\n",
      "  9.         29.69911765 50.         63.         25.         29.69911765\n",
      " 35.         58.         30.          9.         29.69911765 21.\n",
      " 55.         71.         21.         29.69911765 54.         29.69911765\n",
      " 25.         24.         17.         21.         29.69911765 37.\n",
      " 16.         18.         33.         29.69911765 28.         26.\n",
      " 29.         29.69911765 36.         54.         24.         47.\n",
      " 34.         29.69911765 36.         32.         30.         22.\n",
      " 29.69911765 44.         29.69911765 40.5        50.         29.69911765\n",
      " 39.         23.          2.         29.69911765 17.         29.69911765\n",
      " 30.          7.         45.         30.         29.69911765 22.\n",
      " 36.          9.         11.         32.         50.         64.\n",
      " 19.         29.69911765 33.          8.         17.         27.\n",
      " 29.69911765 22.         22.         62.         48.         29.69911765\n",
      " 39.         36.         29.69911765 40.         28.         29.69911765\n",
      " 29.69911765 24.         19.         29.         29.69911765 32.\n",
      " 62.         53.         36.         29.69911765 16.         19.\n",
      " 34.         39.         29.69911765 32.         25.         39.\n",
      " 54.         36.         29.69911765 18.         47.         60.\n",
      " 22.         29.69911765 35.         52.         47.         29.69911765\n",
      " 37.         36.         29.69911765 49.         29.69911765 49.\n",
      " 24.         29.69911765 29.69911765 44.         35.         36.\n",
      " 30.         27.         22.         40.         39.         29.69911765\n",
      " 29.69911765 29.69911765 35.         24.         34.         26.\n",
      "  4.         26.         27.         42.         20.         21.\n",
      " 21.         61.         57.         21.         26.         29.69911765\n",
      " 80.         51.         32.         29.69911765  9.         28.\n",
      " 32.         31.         41.         29.69911765 20.         24.\n",
      "  2.         29.69911765  0.75       48.         19.         56.\n",
      " 29.69911765 23.         29.69911765 18.         21.         29.69911765\n",
      " 18.         24.         29.69911765 32.         23.         58.\n",
      " 50.         40.         47.         36.         20.         32.\n",
      " 25.         29.69911765 43.         29.69911765 40.         31.\n",
      " 70.         31.         29.69911765 18.         24.5        18.\n",
      " 43.         36.         29.69911765 27.         20.         14.\n",
      " 60.         25.         14.         19.         18.         15.\n",
      " 31.          4.         29.69911765 25.         60.         52.\n",
      " 44.         29.69911765 49.         42.         18.         35.\n",
      " 18.         25.         26.         39.         45.         42.\n",
      " 22.         29.69911765 24.         29.69911765 48.         29.\n",
      " 52.         19.         38.         27.         29.69911765 33.\n",
      "  6.         17.         34.         50.         27.         20.\n",
      " 30.         29.69911765 25.         25.         29.         11.\n",
      " 29.69911765 23.         23.         28.5        48.         35.\n",
      " 29.69911765 29.69911765 29.69911765 36.         21.         24.\n",
      " 31.         70.         16.         30.         19.         31.\n",
      "  4.          6.         33.         23.         48.          0.67\n",
      " 28.         18.         34.         33.         29.69911765 41.\n",
      " 20.         36.         16.         51.         29.69911765 30.5\n",
      " 29.69911765 32.         24.         48.         57.         29.69911765\n",
      " 54.         18.         29.69911765  5.         29.69911765 43.\n",
      " 13.         17.         29.         29.69911765 25.         25.\n",
      " 18.          8.          1.         46.         29.69911765 16.\n",
      " 29.69911765 29.69911765 25.         39.         49.         31.\n",
      " 30.         30.         34.         31.         11.          0.42\n",
      " 27.         31.         39.         18.         39.         33.\n",
      " 26.         39.         35.          6.         30.5        29.69911765\n",
      " 23.         31.         43.         10.         52.         27.\n",
      " 38.         27.          2.         29.69911765 29.69911765  1.\n",
      " 29.69911765 62.         15.          0.83       29.69911765 23.\n",
      " 18.         39.         21.         29.69911765 32.         29.69911765\n",
      " 20.         16.         30.         34.5        17.         42.\n",
      " 29.69911765 35.         28.         29.69911765  4.         74.\n",
      "  9.         16.         44.         18.         45.         51.\n",
      " 24.         29.69911765 41.         21.         48.         29.69911765\n",
      " 24.         42.         27.         31.         29.69911765  4.\n",
      " 26.         47.         33.         47.         28.         15.\n",
      " 20.         19.         29.69911765 56.         25.         33.\n",
      " 22.         28.         25.         39.         27.         19.\n",
      " 29.69911765 26.         32.        ]\n",
      "0\n"
     ]
    }
   ],
   "source": [
    "passengers['Sex'] = np.where(passengers.Sex=='female',1,0)\n",
    "print(passengers.head())\n",
    "\n",
    "# Fill the nan values in the age column\n",
    "passengers['Age'] = passengers.Age.fillna(passengers.Age.mean())\n",
    "print(passengers['Age'].values)\n",
    "print(passengers.Age.isna().sum())\n"
   ]
  },
  {
   "cell_type": "markdown",
   "id": "3bc97011",
   "metadata": {},
   "source": [
    "## Create a first and second class column"
   ]
  },
  {
   "cell_type": "code",
   "execution_count": 8,
   "id": "3cbbe60f",
   "metadata": {},
   "outputs": [
    {
     "name": "stdout",
     "output_type": "stream",
     "text": [
      "3    491\n",
      "1    216\n",
      "2    184\n",
      "Name: Pclass, dtype: int64\n"
     ]
    }
   ],
   "source": [
    "print(passengers.Pclass.value_counts())\n",
    "passengers['FirstClass'] = np.where(passengers.Pclass ==1,1,0)"
   ]
  },
  {
   "cell_type": "code",
   "execution_count": 12,
   "id": "44bd5ec9",
   "metadata": {},
   "outputs": [
    {
     "name": "stdout",
     "output_type": "stream",
     "text": [
      "0    707\n",
      "1    184\n",
      "Name: SecondClass, dtype: int64\n"
     ]
    }
   ],
   "source": [
    "passengers['SecondClass'] = np.where(passengers.Pclass==2,1,0)\n",
    "print(passengers.SecondClass.value_counts())"
   ]
  },
  {
   "cell_type": "code",
   "execution_count": 13,
   "id": "fb814ecc",
   "metadata": {},
   "outputs": [],
   "source": [
    "# Select the desired features\n",
    "features = passengers[['Sex','Age','FirstClass','SecondClass']]\n",
    "survival = passengers['Survived']"
   ]
  },
  {
   "cell_type": "markdown",
   "id": "66b56732",
   "metadata": {},
   "source": [
    "## Perform train, test, split"
   ]
  },
  {
   "cell_type": "code",
   "execution_count": 15,
   "id": "1ac0c4ca",
   "metadata": {},
   "outputs": [],
   "source": [
    "x_train,x_test,y_train,y_test = train_test_split(features,survival,train_size = 0.8,test_size = 0.2)\n",
    "# Scale the feature data so it has mean = 0 and standard deviation = 1\n",
    "scaler = StandardScaler()\n",
    "x_train = scaler.fit_transform(x_train)\n",
    "x_test = scaler.transform(x_test)"
   ]
  },
  {
   "cell_type": "markdown",
   "id": "8df843a3",
   "metadata": {},
   "source": [
    "## Create and train and score the model"
   ]
  },
  {
   "cell_type": "code",
   "execution_count": 17,
   "id": "478a7ca8",
   "metadata": {},
   "outputs": [
    {
     "name": "stdout",
     "output_type": "stream",
     "text": [
      "score of model:  0.6853932584269663\n",
      "score of test data:  0.7206703910614525\n"
     ]
    }
   ],
   "source": [
    "regr = LogisticRegression()\n",
    "regr.fit(x_train,y_train)\n",
    "\n",
    "# Score the model on the train data\n",
    "print('score of model: ', regr.score(x_train,y_train))\n",
    "\n",
    "# Score the model on the test data\n",
    "print('score of test data: ',regr.score(x_test,y_test))"
   ]
  },
  {
   "cell_type": "code",
   "execution_count": 18,
   "id": "5b4bb65a",
   "metadata": {},
   "outputs": [
    {
     "name": "stdout",
     "output_type": "stream",
     "text": [
      "feature coefficients: [[ 0.         -0.43881306  0.89266663  0.51517908]]\n"
     ]
    }
   ],
   "source": [
    "# Analyze the coefficients\n",
    "print('feature coefficients:',regr.coef_)"
   ]
  },
  {
   "cell_type": "markdown",
   "id": "fcb82c4f",
   "metadata": {},
   "source": [
    "## Sample passenger features"
   ]
  },
  {
   "cell_type": "code",
   "execution_count": 21,
   "id": "53b79507",
   "metadata": {},
   "outputs": [
    {
     "name": "stdout",
     "output_type": "stream",
     "text": [
      "[[ 0.  20.   0.   0. ]\n",
      " [ 1.  17.   1.   0. ]\n",
      " [ 0.5 25.   0.   1. ]]\n",
      "[0 0 0]\n",
      "[[9.99907881e-01 9.21190417e-05]\n",
      " [9.99161646e-01 8.38354390e-04]\n",
      " [9.99982811e-01 1.71890125e-05]]\n"
     ]
    }
   ],
   "source": [
    "Jack = np.array([0.0,20.0,0.0,0.0])\n",
    "Rose = np.array([1.0,17.0,1.0,0.0])\n",
    "Seyram = np.array([0.5,25.0,0.0,1.0])\n",
    "\n",
    "# Combine passenger arrays\n",
    "sample_passengers = np.array([Jack,Rose,Seyram])\n",
    "print(sample_passengers)\n",
    "\n",
    "\n"
   ]
  },
  {
   "cell_type": "code",
   "execution_count": 22,
   "id": "3443259a",
   "metadata": {},
   "outputs": [
    {
     "name": "stdout",
     "output_type": "stream",
     "text": [
      "[[ 0.         -0.72154913 -0.58383755 -0.50350881]\n",
      " [ 1.         -0.95188092  1.7128052  -0.50350881]\n",
      " [ 0.5        -0.33766283 -0.58383755  1.98606255]]\n"
     ]
    }
   ],
   "source": [
    "# Scale the sample passenger features\n",
    "sample_passengers = scaler.transform(sample_passengers)\n",
    "print(sample_passengers)"
   ]
  },
  {
   "cell_type": "code",
   "execution_count": 23,
   "id": "d9732912",
   "metadata": {},
   "outputs": [
    {
     "name": "stdout",
     "output_type": "stream",
     "text": [
      "[0 1 1]\n",
      "[[0.72711215 0.27288785]\n",
      " [0.23664011 0.76335989]\n",
      " [0.46652491 0.53347509]]\n"
     ]
    }
   ],
   "source": [
    "# Make survival predictions!\n",
    "print(regr.predict(sample_passengers))\n",
    "\n",
    "print(regr.predict_proba(sample_passengers))"
   ]
  }
 ],
 "metadata": {
  "kernelspec": {
   "display_name": "Python 3",
   "language": "python",
   "name": "python3"
  },
  "language_info": {
   "codemirror_mode": {
    "name": "ipython",
    "version": 3
   },
   "file_extension": ".py",
   "mimetype": "text/x-python",
   "name": "python",
   "nbconvert_exporter": "python",
   "pygments_lexer": "ipython3",
   "version": "3.8.8"
  }
 },
 "nbformat": 4,
 "nbformat_minor": 5
}
